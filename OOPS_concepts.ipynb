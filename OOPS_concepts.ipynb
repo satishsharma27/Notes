{
 "cells": [
  {
   "cell_type": "code",
   "execution_count": 4,
   "id": "4be09312",
   "metadata": {},
   "outputs": [],
   "source": [
    "# Everything in python is objet\n"
   ]
  },
  {
   "cell_type": "code",
   "execution_count": 5,
   "id": "669044f7",
   "metadata": {},
   "outputs": [
    {
     "data": {
      "text/plain": [
       "[1, 2, 3]"
      ]
     },
     "execution_count": 5,
     "metadata": {},
     "output_type": "execute_result"
    }
   ],
   "source": [
    "L = [1,2,3]\n",
    "L"
   ]
  },
  {
   "cell_type": "code",
   "execution_count": 6,
   "id": "f0becf43",
   "metadata": {},
   "outputs": [],
   "source": [
    "#why we create object L= [1,2,3] like this in python becasue\n",
    "# in object we use literal "
   ]
  },
  {
   "cell_type": "code",
   "execution_count": 8,
   "id": "1872a3cf",
   "metadata": {},
   "outputs": [],
   "source": [
    "# we can also create object like this \n",
    "\n",
    "lis = list([1,2,3])"
   ]
  },
  {
   "cell_type": "code",
   "execution_count": 9,
   "id": "13ceccc7",
   "metadata": {},
   "outputs": [
    {
     "data": {
      "text/plain": [
       "[1, 2, 3]"
      ]
     },
     "execution_count": 9,
     "metadata": {},
     "output_type": "execute_result"
    }
   ],
   "source": [
    "lis"
   ]
  },
  {
   "cell_type": "code",
   "execution_count": 10,
   "id": "1c38c16f",
   "metadata": {},
   "outputs": [
    {
     "data": {
      "text/plain": [
       "3"
      ]
     },
     "execution_count": 10,
     "metadata": {},
     "output_type": "execute_result"
    }
   ],
   "source": [
    "len(lis)"
   ]
  },
  {
   "cell_type": "code",
   "execution_count": 11,
   "id": "723868b1",
   "metadata": {},
   "outputs": [],
   "source": [
    "tu = (1,2.3,4)\n",
    "\n"
   ]
  },
  {
   "cell_type": "code",
   "execution_count": 12,
   "id": "8a6e1832",
   "metadata": {},
   "outputs": [
    {
     "data": {
      "text/plain": [
       "(1, 2.3, 4)"
      ]
     },
     "execution_count": 12,
     "metadata": {},
     "output_type": "execute_result"
    }
   ],
   "source": [
    "tu"
   ]
  },
  {
   "cell_type": "code",
   "execution_count": 14,
   "id": "eecbd279",
   "metadata": {},
   "outputs": [
    {
     "data": {
      "text/plain": [
       "<function tuple.count(value, /)>"
      ]
     },
     "execution_count": 14,
     "metadata": {},
     "output_type": "execute_result"
    }
   ],
   "source": [
    "tu.count"
   ]
  },
  {
   "cell_type": "code",
   "execution_count": 16,
   "id": "4f715e69",
   "metadata": {},
   "outputs": [],
   "source": [
    "class Atm:\n",
    "    \n",
    "    # constructor is a special method which run automatically the code when you create object of that class\n",
    "    \n",
    "    def __init__(self):\n",
    "        \n",
    "        print('Hello')\n",
    "        \n",
    "        \n",
    "    def menu(self):\n",
    "        pass"
   ]
  },
  {
   "cell_type": "code",
   "execution_count": 17,
   "id": "78b9b828",
   "metadata": {},
   "outputs": [
    {
     "name": "stdout",
     "output_type": "stream",
     "text": [
      "Hello\n"
     ]
    }
   ],
   "source": [
    "sbi = Atm()\n"
   ]
  },
  {
   "cell_type": "code",
   "execution_count": 29,
   "id": "4236d11e",
   "metadata": {},
   "outputs": [],
   "source": [
    "class Atm:\n",
    "    \n",
    "    def __init__(self):\n",
    "        \n",
    "        self.pin = \"\"\n",
    "        self.balance = 0\n",
    "        \n",
    "        self.menu()\n",
    "        \n",
    "        \n",
    "    def menu(self):\n",
    "        \n",
    "        \n",
    "        \n",
    "        user_input = input(\"\"\"\n",
    "            \n",
    "                       hello, how would you like to proceed\n",
    "                       \n",
    "                       1. enter 1 to create a pin\n",
    "                       2. enter 2 to deposit\n",
    "                       3. enter 3 to withdraw\n",
    "                       4. enter 4 to check balance \n",
    "                       5. enter 5 to exit\n",
    "                       \n",
    "        \n",
    "\"\"\")\n",
    "        if user_input == \"1\":\n",
    "            self.create_pin()\n",
    "        elif user_input == \"2\":\n",
    "            self.deposit()\n",
    "        elif user_input == \"3\":\n",
    "            self.with_draw()\n",
    "        elif user_input == \"4\":\n",
    "            self.check_balance()\n",
    "        else:\n",
    "            print(\"bye\")\n",
    "            \n",
    "    def create_pin(self):\n",
    "        self.pin = input(\"Enter you pin\")\n",
    "        print(\"Pin has been generated\")\n",
    "        \n",
    "    def deposit(self):\n",
    "        \n",
    "        temp = input(\"Enter your pin\")\n",
    "        if temp == self.pin:\n",
    "            amount = int(input(\"enter the amount\"))\n",
    "            self.balance =self.balance + amount\n",
    "            print(\"deposit successful\")\n",
    "        else:\n",
    "            print(\"Inavlid pin\")\n",
    "            \n",
    "    def with_draw(self):\n",
    "        temp = input(\"Enter you pin\")\n",
    "        if temp == self.pin:\n",
    "            amount = int(input(\"Enter the amount\"))\n",
    "            if amount < self.balance:\n",
    "                self.balance = self.balance - amount\n",
    "                print(\"operation successful\")\n",
    "            else:\n",
    "                print(\"ïnsufficient balance\")\n",
    "        else:\n",
    "            print(\"invalid pin\")\n",
    "            \n",
    "    def check_balance(self):\n",
    "        temp = input(\"enter your pin\")\n",
    "        if temp == self.pin:\n",
    "            print(self.balance)\n",
    "        else:\n",
    "            print(\"Invalid pin\")\n",
    "        \n",
    "    \n",
    "    \n",
    "    \n",
    "            \n",
    "    \n",
    "        \n",
    "\n",
    "    \n",
    "    "
   ]
  },
  {
   "cell_type": "code",
   "execution_count": 31,
   "id": "56457be6",
   "metadata": {
    "scrolled": true
   },
   "outputs": [
    {
     "name": "stdout",
     "output_type": "stream",
     "text": [
      "\n",
      "            \n",
      "                       hello, how would you like to proceed\n",
      "                       \n",
      "                       1. enter 1 to create a pin\n",
      "                       2. enter 2 to deposit\n",
      "                       3. enter 3 to withdraw\n",
      "                       4. enter 4 to check balance \n",
      "                       5. enter 5 to exit\n",
      "                       \n",
      "        \n",
      "1\n",
      "Enter you pin123\n",
      "Pin has been generated\n"
     ]
    }
   ],
   "source": [
    "sbi = Atm()"
   ]
  },
  {
   "cell_type": "code",
   "execution_count": 32,
   "id": "5aeb46b4",
   "metadata": {},
   "outputs": [
    {
     "name": "stdout",
     "output_type": "stream",
     "text": [
      "Enter your pin123\n",
      "enter the amount1000000\n",
      "deposit successful\n"
     ]
    }
   ],
   "source": [
    "sbi.deposit()"
   ]
  },
  {
   "cell_type": "code",
   "execution_count": 33,
   "id": "9040bec6",
   "metadata": {},
   "outputs": [
    {
     "name": "stdout",
     "output_type": "stream",
     "text": [
      "enter your pin123\n",
      "1000000\n"
     ]
    }
   ],
   "source": [
    "sbi.check_balance()"
   ]
  },
  {
   "cell_type": "code",
   "execution_count": 34,
   "id": "f320f0b1",
   "metadata": {},
   "outputs": [
    {
     "name": "stdout",
     "output_type": "stream",
     "text": [
      "Enter you pin123\n",
      "Enter the amount5000\n",
      "operation successful\n"
     ]
    }
   ],
   "source": [
    "sbi.with_draw()"
   ]
  },
  {
   "cell_type": "code",
   "execution_count": 35,
   "id": "71752309",
   "metadata": {},
   "outputs": [
    {
     "name": "stdout",
     "output_type": "stream",
     "text": [
      "enter your pin123\n",
      "995000\n"
     ]
    }
   ],
   "source": [
    "sbi.check_balance()"
   ]
  },
  {
   "cell_type": "code",
   "execution_count": null,
   "id": "1852c138",
   "metadata": {},
   "outputs": [],
   "source": []
  }
 ],
 "metadata": {
  "kernelspec": {
   "display_name": "Python 3 (ipykernel)",
   "language": "python",
   "name": "python3"
  },
  "language_info": {
   "codemirror_mode": {
    "name": "ipython",
    "version": 3
   },
   "file_extension": ".py",
   "mimetype": "text/x-python",
   "name": "python",
   "nbconvert_exporter": "python",
   "pygments_lexer": "ipython3",
   "version": "3.11.3"
  }
 },
 "nbformat": 4,
 "nbformat_minor": 5
}
