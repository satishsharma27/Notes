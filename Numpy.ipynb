{
 "cells": [
  {
   "cell_type": "markdown",
   "id": "851748c2",
   "metadata": {},
   "source": [
    "# Numpy is the fundamental package for scientific computing in python.\n",
    "# It is  a python library that provides  a multidimension array  object, various\n",
    "# derived objects( such as masked arrays and matrics), and an assortment of routines for fast operations on arrays, including mathematicals, logical, shape manipulation , sorting, selecting , I/O , discrete Fourier transforms, basics liner algebra, basic statistical operations, random simulation and much more.\n",
    "\n",
    "# At the core of the Numpy package, is the ndarray object. This encapsulates \n",
    "# n- dimesional arrays of homogeneous data  types."
   ]
  },
  {
   "cell_type": "code",
   "execution_count": 2,
   "id": "5900da17",
   "metadata": {},
   "outputs": [],
   "source": [
    "# Numpy arrays vs Python Sequences(sequences is just a  lists, sets )\n",
    "\n",
    "# Numpy arrays have a fixed size at creation, unlike Python lists( Which can grow dynamically). Changing the size of an\n",
    "# ndarray will create  a new array and delete the original.\n",
    "\n",
    "# The elements in a Numpy array are all required to be the same data type, and thus will be the same size in memory \n",
    "# Numpy arrays facilites advanced mathematical and other types of operation on large numbers of data. Typically, such\n",
    "# operations are executed more efficiently and with less code than is possible using Python's Built-in sequences.\n",
    "\n",
    "# A growing plethora of scientific and mathematical Python- based packages are using Numpy arrays; though these typically \n",
    "# support Python-sequence input , they convert such input to Numpy arrays prior to processing, and they often output Numpy\n",
    "#arrays"
   ]
  },
  {
   "cell_type": "markdown",
   "id": "c852d2ab",
   "metadata": {},
   "source": [
    "# How to create Numpy Arrays"
   ]
  },
  {
   "cell_type": "code",
   "execution_count": 1,
   "id": "f27c8ac8",
   "metadata": {},
   "outputs": [
    {
     "name": "stdout",
     "output_type": "stream",
     "text": [
      "[1 2 3]\n",
      "<class 'numpy.ndarray'>\n"
     ]
    }
   ],
   "source": [
    "# importing Numpy \n",
    "\n",
    "import numpy as np\n",
    "\n",
    "a = np.array([1,2,3])\n",
    "\n",
    "print(a)\n",
    "print(type(a))"
   ]
  },
  {
   "cell_type": "code",
   "execution_count": 4,
   "id": "a512524b",
   "metadata": {},
   "outputs": [
    {
     "name": "stdout",
     "output_type": "stream",
     "text": [
      "[[1 2 3]\n",
      " [4 5 6]]\n"
     ]
    }
   ],
   "source": [
    "# 2D and 3D numpy\n",
    "\n",
    "b = np.array([[1,2,3],[4,5,6]])\n",
    "\n",
    "print(b)\n"
   ]
  },
  {
   "cell_type": "code",
   "execution_count": 5,
   "id": "c3a3245f",
   "metadata": {},
   "outputs": [
    {
     "name": "stdout",
     "output_type": "stream",
     "text": [
      "[[[1 2]\n",
      "  [3 4]\n",
      "  [5 6]\n",
      "  [7 8]]]\n"
     ]
    }
   ],
   "source": [
    "# 3D\n",
    "\n",
    "c = np.array([[[1,2],[3,4],[5,6],[7,8]]])\n",
    "\n",
    "print(c)"
   ]
  },
  {
   "cell_type": "code",
   "execution_count": 6,
   "id": "77a307cc",
   "metadata": {},
   "outputs": [
    {
     "data": {
      "text/plain": [
       "array([1., 2., 3., 4.])"
      ]
     },
     "execution_count": 6,
     "metadata": {},
     "output_type": "execute_result"
    }
   ],
   "source": [
    "# how to convert data type \n",
    "\n",
    "# lets create integer to float\n",
    "\n",
    "np.array([1,2,3,4], dtype=float)"
   ]
  },
  {
   "cell_type": "code",
   "execution_count": 7,
   "id": "56b2790e",
   "metadata": {},
   "outputs": [
    {
     "data": {
      "text/plain": [
       "array([ True,  True,  True,  True])"
      ]
     },
     "execution_count": 7,
     "metadata": {},
     "output_type": "execute_result"
    }
   ],
   "source": [
    "# lets create data type to boolean\n",
    "\n",
    "np.array([1,2,3,4], dtype= bool)\n",
    "\n",
    "# in Python non 0 value is consider as True"
   ]
  },
  {
   "cell_type": "code",
   "execution_count": 8,
   "id": "4be57e50",
   "metadata": {},
   "outputs": [
    {
     "data": {
      "text/plain": [
       "array([1.+0.j, 2.+0.j, 3.+0.j, 4.+0.j])"
      ]
     },
     "execution_count": 8,
     "metadata": {},
     "output_type": "execute_result"
    }
   ],
   "source": [
    "# lets create data type to complex\n",
    "\n",
    "np.array([1,2,3,4], dtype= complex)"
   ]
  },
  {
   "cell_type": "code",
   "execution_count": 9,
   "id": "5749d60b",
   "metadata": {},
   "outputs": [
    {
     "data": {
      "text/plain": [
       "array([1, 3, 5, 7, 9])"
      ]
     },
     "execution_count": 9,
     "metadata": {},
     "output_type": "execute_result"
    }
   ],
   "source": [
    "# np.arange\n",
    "\n",
    "np.arange(1,11,2)"
   ]
  },
  {
   "cell_type": "code",
   "execution_count": 10,
   "id": "42383f98",
   "metadata": {},
   "outputs": [
    {
     "data": {
      "text/plain": [
       "array([[ 1,  2],\n",
       "       [ 3,  4],\n",
       "       [ 5,  6],\n",
       "       [ 7,  8],\n",
       "       [ 9, 10]])"
      ]
     },
     "execution_count": 10,
     "metadata": {},
     "output_type": "execute_result"
    }
   ],
   "source": [
    "# with reshape \n",
    "np.arange(1,11).reshape(5,2)"
   ]
  },
  {
   "cell_type": "code",
   "execution_count": 11,
   "id": "601045d4",
   "metadata": {},
   "outputs": [
    {
     "data": {
      "text/plain": [
       "array([[1., 1., 1., 1., 1.],\n",
       "       [1., 1., 1., 1., 1.],\n",
       "       [1., 1., 1., 1., 1.]])"
      ]
     },
     "execution_count": 11,
     "metadata": {},
     "output_type": "execute_result"
    }
   ],
   "source": [
    "# np.ones and np.zeros\n",
    "\n",
    "np.ones((3,5))\n",
    "\n",
    "# why we use  np.ones and np.zeros because where every we need intialization we use ones and zeros"
   ]
  },
  {
   "cell_type": "markdown",
   "id": "65ecc28d",
   "metadata": {},
   "source": [
    "# how to use array Attributes"
   ]
  },
  {
   "cell_type": "code",
   "execution_count": 12,
   "id": "ae441322",
   "metadata": {},
   "outputs": [],
   "source": [
    "a1 = np.arange(10)\n",
    "a2 = np.arange(12,dtype = float).reshape(3,4)\n",
    "a3 = np.arange(8).reshape(2,2,2)\n"
   ]
  },
  {
   "cell_type": "code",
   "execution_count": 13,
   "id": "89e471f4",
   "metadata": {},
   "outputs": [
    {
     "data": {
      "text/plain": [
       "array([[[0, 1],\n",
       "        [2, 3]],\n",
       "\n",
       "       [[4, 5],\n",
       "        [6, 7]]])"
      ]
     },
     "execution_count": 13,
     "metadata": {},
     "output_type": "execute_result"
    }
   ],
   "source": [
    "a3"
   ]
  },
  {
   "cell_type": "code",
   "execution_count": 15,
   "id": "61e0ac14",
   "metadata": {},
   "outputs": [
    {
     "data": {
      "text/plain": [
       "1"
      ]
     },
     "execution_count": 15,
     "metadata": {},
     "output_type": "execute_result"
    }
   ],
   "source": [
    "# ndim ( Number of dimension)\n",
    " \n",
    "a1.ndim\n",
    "\n",
    "\n",
    "\n",
    "# what ndim do? it tells what is demension of the array\n",
    "# in this example tu dekh sakta hai ki 1 dimesion hai\n"
   ]
  },
  {
   "cell_type": "code",
   "execution_count": 16,
   "id": "3b2232fe",
   "metadata": {},
   "outputs": [
    {
     "data": {
      "text/plain": [
       "2"
      ]
     },
     "execution_count": 16,
     "metadata": {},
     "output_type": "execute_result"
    }
   ],
   "source": [
    "a2.ndim"
   ]
  },
  {
   "cell_type": "code",
   "execution_count": 18,
   "id": "c08ef2de",
   "metadata": {},
   "outputs": [
    {
     "name": "stdout",
     "output_type": "stream",
     "text": [
      "(2, 2, 2)\n"
     ]
    }
   ],
   "source": [
    "# shape\n",
    "print(a3.shape)"
   ]
  },
  {
   "cell_type": "code",
   "execution_count": 19,
   "id": "a6bf5e46",
   "metadata": {},
   "outputs": [
    {
     "data": {
      "text/plain": [
       "10"
      ]
     },
     "execution_count": 19,
     "metadata": {},
     "output_type": "execute_result"
    }
   ],
   "source": [
    "# size\n",
    "\n",
    "a1.size"
   ]
  },
  {
   "cell_type": "code",
   "execution_count": 20,
   "id": "6e9db7d6",
   "metadata": {},
   "outputs": [
    {
     "data": {
      "text/plain": [
       "12"
      ]
     },
     "execution_count": 20,
     "metadata": {},
     "output_type": "execute_result"
    }
   ],
   "source": [
    "a2.size"
   ]
  },
  {
   "cell_type": "code",
   "execution_count": 21,
   "id": "ed793fba",
   "metadata": {},
   "outputs": [
    {
     "data": {
      "text/plain": [
       "8"
      ]
     },
     "execution_count": 21,
     "metadata": {},
     "output_type": "execute_result"
    }
   ],
   "source": [
    "a3.size"
   ]
  },
  {
   "cell_type": "code",
   "execution_count": 22,
   "id": "688ef18d",
   "metadata": {},
   "outputs": [
    {
     "data": {
      "text/plain": [
       "4"
      ]
     },
     "execution_count": 22,
     "metadata": {},
     "output_type": "execute_result"
    }
   ],
   "source": [
    "#itemsize tell ( har iteam memory may kitana size le raha hai)\n",
    "\n",
    "a1.itemsize\n",
    "\n",
    "# ye bol raha hai ki 4 bites ki memory use hua hai"
   ]
  },
  {
   "cell_type": "code",
   "execution_count": 23,
   "id": "dd7dcf36",
   "metadata": {},
   "outputs": [
    {
     "data": {
      "text/plain": [
       "8"
      ]
     },
     "execution_count": 23,
     "metadata": {},
     "output_type": "execute_result"
    }
   ],
   "source": [
    "a2.itemsize"
   ]
  },
  {
   "cell_type": "code",
   "execution_count": 24,
   "id": "23677be5",
   "metadata": {},
   "outputs": [
    {
     "data": {
      "text/plain": [
       "4"
      ]
     },
     "execution_count": 24,
     "metadata": {},
     "output_type": "execute_result"
    }
   ],
   "source": [
    "a3.itemsize"
   ]
  },
  {
   "cell_type": "code",
   "execution_count": 26,
   "id": "d11c3a6c",
   "metadata": {},
   "outputs": [
    {
     "name": "stdout",
     "output_type": "stream",
     "text": [
      "int32\n",
      "float64\n",
      "int32\n"
     ]
    }
   ],
   "source": [
    "# int32 4 bites leta hai memory and int64 8 bites leta hai memory\n",
    "\n",
    "print(a1.dtype)\n",
    "print(a2.dtype)\n",
    "print(a3.dtype)"
   ]
  },
  {
   "cell_type": "markdown",
   "id": "bd4ec2c4",
   "metadata": {},
   "source": [
    "# changing datatype"
   ]
  },
  {
   "cell_type": "code",
   "execution_count": 29,
   "id": "5573928a",
   "metadata": {},
   "outputs": [
    {
     "data": {
      "text/plain": [
       "array([[[0, 1],\n",
       "        [2, 3]],\n",
       "\n",
       "       [[4, 5],\n",
       "        [6, 7]]], dtype=int64)"
      ]
     },
     "execution_count": 29,
     "metadata": {},
     "output_type": "execute_result"
    }
   ],
   "source": [
    "#astype\n",
    "a3.astype(np.int64) # or you can do viceversa int34 remember int32 take less memory and int64 takes more"
   ]
  },
  {
   "cell_type": "markdown",
   "id": "f6245b99",
   "metadata": {},
   "source": [
    "# Array operation"
   ]
  },
  {
   "cell_type": "code",
   "execution_count": 38,
   "id": "8ab7593f",
   "metadata": {},
   "outputs": [],
   "source": [
    "b1 = np.arange(12).reshape(3,4)\n",
    "b2 = np.arange(12,24).reshape(3,4)\n",
    "\n",
    "\n"
   ]
  },
  {
   "cell_type": "code",
   "execution_count": 39,
   "id": "97d32c7b",
   "metadata": {},
   "outputs": [
    {
     "data": {
      "text/plain": [
       "array([[ 0,  1,  2,  3],\n",
       "       [ 4,  5,  6,  7],\n",
       "       [ 8,  9, 10, 11]])"
      ]
     },
     "execution_count": 39,
     "metadata": {},
     "output_type": "execute_result"
    }
   ],
   "source": [
    "b1"
   ]
  },
  {
   "cell_type": "code",
   "execution_count": 40,
   "id": "197c98be",
   "metadata": {},
   "outputs": [
    {
     "data": {
      "text/plain": [
       "array([[12, 13, 14, 15],\n",
       "       [16, 17, 18, 19],\n",
       "       [20, 21, 22, 23]])"
      ]
     },
     "execution_count": 40,
     "metadata": {},
     "output_type": "execute_result"
    }
   ],
   "source": [
    "b2"
   ]
  },
  {
   "cell_type": "code",
   "execution_count": 54,
   "id": "5d35029f",
   "metadata": {},
   "outputs": [
    {
     "name": "stdout",
     "output_type": "stream",
     "text": [
      "[[ 0  2  4  6]\n",
      " [ 8 10 12 14]\n",
      " [16 18 20 22]]\n"
     ]
    }
   ],
   "source": [
    "# scalar operation \n",
    "\n",
    "# Arithmetic \n",
    "\n",
    "print(b1*2)  # Ye har element pay jayega aur 2 se multiple karega\"\n",
    "#  ismay koi bhi operation kar sakte hai *,/,+,_\""
   ]
  },
  {
   "cell_type": "code",
   "execution_count": 55,
   "id": "7b74e225",
   "metadata": {},
   "outputs": [
    {
     "name": "stdout",
     "output_type": "stream",
     "text": [
      "[[  0  13  28  45]\n",
      " [ 64  85 108 133]\n",
      " [160 189 220 253]]\n"
     ]
    }
   ],
   "source": [
    "# vector operation \n",
    "\n",
    "# arithmetic\n",
    "\n",
    "print(b1*b2) # ismay ak array dusare array se operate hota hai, aur ismay koi bhi operation kar sakte hai\n"
   ]
  },
  {
   "cell_type": "markdown",
   "id": "1f3bbde2",
   "metadata": {},
   "source": [
    " # Array functions"
   ]
  },
  {
   "cell_type": "code",
   "execution_count": 56,
   "id": "66b57a22",
   "metadata": {},
   "outputs": [
    {
     "data": {
      "text/plain": [
       "array([[75., 29., 54.],\n",
       "       [75., 49., 49.],\n",
       "       [12., 42., 12.]])"
      ]
     },
     "execution_count": 56,
     "metadata": {},
     "output_type": "execute_result"
    }
   ],
   "source": [
    "c1 = np.random.random((3,3))\n",
    "\n",
    "c1 = np.round(c1*100)\n",
    "\n",
    "c1"
   ]
  },
  {
   "cell_type": "code",
   "execution_count": 57,
   "id": "41ac73cb",
   "metadata": {},
   "outputs": [
    {
     "data": {
      "text/plain": [
       "75.0"
      ]
     },
     "execution_count": 57,
     "metadata": {},
     "output_type": "execute_result"
    }
   ],
   "source": [
    "# min,max,product\n",
    "\n",
    "np.max(c1) # koi bhi function use kar sakte hai"
   ]
  },
  {
   "cell_type": "code",
   "execution_count": 58,
   "id": "e2e3a72d",
   "metadata": {},
   "outputs": [
    {
     "data": {
      "text/plain": [
       "array([12., 29., 12.])"
      ]
     },
     "execution_count": 58,
     "metadata": {},
     "output_type": "execute_result"
    }
   ],
   "source": [
    "# min, max, product\n",
    "\n",
    "# abhi ye upar pure array ka min max and product de raha hai but agar kisko \n",
    "# ak pure row ka karna hai tho kaise karenge aur agar ak column ka karna hai tho kaise kareneg\n",
    "\n",
    "# ismay 0 --> column hota hai and 1 --> row hota hai\n",
    "\n",
    "np.min(c1, axis=0)\n"
   ]
  },
  {
   "cell_type": "code",
   "execution_count": 59,
   "id": "eea98656",
   "metadata": {},
   "outputs": [
    {
     "data": {
      "text/plain": [
       "array([75., 75., 42.])"
      ]
     },
     "execution_count": 59,
     "metadata": {},
     "output_type": "execute_result"
    }
   ],
   "source": [
    "# row ka max\n",
    "\n",
    "np.max(c1, axis=1)\n",
    "\n"
   ]
  },
  {
   "cell_type": "code",
   "execution_count": 60,
   "id": "eb5a78f8",
   "metadata": {},
   "outputs": [
    {
     "data": {
      "text/plain": [
       "44.111111111111114"
      ]
     },
     "execution_count": 60,
     "metadata": {},
     "output_type": "execute_result"
    }
   ],
   "source": [
    "# mean, meadian, std\n",
    "\n",
    "np.mean(c1)"
   ]
  },
  {
   "cell_type": "code",
   "execution_count": 61,
   "id": "dbab7962",
   "metadata": {},
   "outputs": [
    {
     "data": {
      "text/plain": [
       "array([54.        , 40.        , 38.33333333])"
      ]
     },
     "execution_count": 61,
     "metadata": {},
     "output_type": "execute_result"
    }
   ],
   "source": [
    "# aur agar single column wise karna hai tho axis= 0 karna hai and for row axis= 1\n",
    "\n",
    "np.mean(c1,axis=0)"
   ]
  },
  {
   "cell_type": "markdown",
   "id": "f7d5319f",
   "metadata": {},
   "source": [
    "# Indexing and slicing\n"
   ]
  },
  {
   "cell_type": "code",
   "execution_count": 64,
   "id": "c5650204",
   "metadata": {},
   "outputs": [
    {
     "data": {
      "text/plain": [
       "array([[[0, 1],\n",
       "        [2, 3]],\n",
       "\n",
       "       [[4, 5],\n",
       "        [6, 7]]])"
      ]
     },
     "execution_count": 64,
     "metadata": {},
     "output_type": "execute_result"
    }
   ],
   "source": [
    "a1 = np.arange(10)\n",
    "a2 = np.arange(12).reshape(3,4)\n",
    "a3 = np.arange(8).reshape(2,2,2)\n",
    "\n",
    "a3"
   ]
  },
  {
   "cell_type": "code",
   "execution_count": 65,
   "id": "3fb1b137",
   "metadata": {},
   "outputs": [
    {
     "data": {
      "text/plain": [
       "array([0, 1, 2, 3, 4, 5, 6, 7, 8, 9])"
      ]
     },
     "execution_count": 65,
     "metadata": {},
     "output_type": "execute_result"
    }
   ],
   "source": [
    "a1"
   ]
  },
  {
   "cell_type": "code",
   "execution_count": 66,
   "id": "960d12cd",
   "metadata": {},
   "outputs": [
    {
     "data": {
      "text/plain": [
       "9"
      ]
     },
     "execution_count": 66,
     "metadata": {},
     "output_type": "execute_result"
    }
   ],
   "source": [
    "# agar koi bole ke last wala item nikalan hai a1 ka tho kaise hoga\n",
    "# simple hai\n",
    "\n",
    "a1[-1] # a1 ka last item 9 hai aur output ayaa 9"
   ]
  },
  {
   "cell_type": "code",
   "execution_count": 67,
   "id": "08fc81d3",
   "metadata": {},
   "outputs": [
    {
     "data": {
      "text/plain": [
       "array([[ 0,  1,  2,  3],\n",
       "       [ 4,  5,  6,  7],\n",
       "       [ 8,  9, 10, 11]])"
      ]
     },
     "execution_count": 67,
     "metadata": {},
     "output_type": "execute_result"
    }
   ],
   "source": [
    "a2 # abhi may 6 nikal na hai tho kaise"
   ]
  },
  {
   "cell_type": "code",
   "execution_count": 68,
   "id": "691d4b7a",
   "metadata": {},
   "outputs": [
    {
     "data": {
      "text/plain": [
       "6"
      ]
     },
     "execution_count": 68,
     "metadata": {},
     "output_type": "execute_result"
    }
   ],
   "source": [
    "a2[1,2] # tho ismay  first hum row ka number denge aur hamesh 0 se start hota hai tho ismay\n",
    "        # 1 row may arah hai and column wise 2 may"
   ]
  },
  {
   "cell_type": "code",
   "execution_count": 69,
   "id": "a72bfb0d",
   "metadata": {},
   "outputs": [
    {
     "data": {
      "text/plain": [
       "array([[[0, 1],\n",
       "        [2, 3]],\n",
       "\n",
       "       [[4, 5],\n",
       "        [6, 7]]])"
      ]
     },
     "execution_count": 69,
     "metadata": {},
     "output_type": "execute_result"
    }
   ],
   "source": [
    "a3"
   ]
  },
  {
   "cell_type": "code",
   "execution_count": 70,
   "id": "a444c3db",
   "metadata": {},
   "outputs": [
    {
     "data": {
      "text/plain": [
       "5"
      ]
     },
     "execution_count": 70,
     "metadata": {},
     "output_type": "execute_result"
    }
   ],
   "source": [
    "# abhi ismay 5 value nikalna hai\n",
    "# tho hamesha socho ki 3D banta kaise hai, tho 3D banta hai 2D se \n",
    "\n",
    "a3[1,0,1]"
   ]
  },
  {
   "cell_type": "code",
   "execution_count": 71,
   "id": "b451e327",
   "metadata": {},
   "outputs": [
    {
     "data": {
      "text/plain": [
       "3"
      ]
     },
     "execution_count": 71,
     "metadata": {},
     "output_type": "execute_result"
    }
   ],
   "source": [
    "# chalo ismay hum 3 nikalte hai \n",
    "\n",
    "a3[0,1,1]"
   ]
  },
  {
   "cell_type": "code",
   "execution_count": 72,
   "id": "d162f512",
   "metadata": {},
   "outputs": [
    {
     "data": {
      "text/plain": [
       "0"
      ]
     },
     "execution_count": 72,
     "metadata": {},
     "output_type": "execute_result"
    }
   ],
   "source": [
    "# chalo 0 nikalte hai\n",
    "\n",
    "a3[0,0,0]"
   ]
  },
  {
   "cell_type": "markdown",
   "id": "cdc7cc5e",
   "metadata": {},
   "source": [
    "# Abhi tak hum indexing kar rahe the"
   ]
  },
  {
   "cell_type": "markdown",
   "id": "dfd42886",
   "metadata": {},
   "source": [
    "# but hum slicing ke help se multiple item ko fetch kar sakte hai"
   ]
  },
  {
   "cell_type": "code",
   "execution_count": 73,
   "id": "beb40845",
   "metadata": {},
   "outputs": [
    {
     "data": {
      "text/plain": [
       "array([0, 1, 2, 3, 4, 5, 6, 7, 8, 9])"
      ]
     },
     "execution_count": 73,
     "metadata": {},
     "output_type": "execute_result"
    }
   ],
   "source": [
    "# ye slicing hai\n",
    "\n",
    "a1"
   ]
  },
  {
   "cell_type": "code",
   "execution_count": 74,
   "id": "8e1e5072",
   "metadata": {},
   "outputs": [
    {
     "data": {
      "text/plain": [
       "array([2, 3, 4])"
      ]
     },
     "execution_count": 74,
     "metadata": {},
     "output_type": "execute_result"
    }
   ],
   "source": [
    "a1[2:5]"
   ]
  },
  {
   "cell_type": "code",
   "execution_count": 75,
   "id": "1a12ac8f",
   "metadata": {},
   "outputs": [
    {
     "data": {
      "text/plain": [
       "array([[ 0,  1,  2,  3],\n",
       "       [ 4,  5,  6,  7],\n",
       "       [ 8,  9, 10, 11]])"
      ]
     },
     "execution_count": 75,
     "metadata": {},
     "output_type": "execute_result"
    }
   ],
   "source": [
    "a2"
   ]
  },
  {
   "cell_type": "code",
   "execution_count": 77,
   "id": "5eef8d0d",
   "metadata": {},
   "outputs": [
    {
     "data": {
      "text/plain": [
       "array([[ 5,  6],\n",
       "       [ 9, 10]])"
      ]
     },
     "execution_count": 77,
     "metadata": {},
     "output_type": "execute_result"
    }
   ],
   "source": [
    "# lets say imay nikal na hai first row\n",
    "\n",
    "a2[1:,1:3]"
   ]
  },
  {
   "cell_type": "code",
   "execution_count": 78,
   "id": "22bb333b",
   "metadata": {},
   "outputs": [
    {
     "data": {
      "text/plain": [
       "array([[ 0,  3],\n",
       "       [ 8, 11]])"
      ]
     },
     "execution_count": 78,
     "metadata": {},
     "output_type": "execute_result"
    }
   ],
   "source": [
    "# chalo sab cone vala value chaiya 0,3,8,11\n",
    "\n",
    "a2[::2,::3]"
   ]
  },
  {
   "cell_type": "code",
   "execution_count": 80,
   "id": "4a138a39",
   "metadata": {},
   "outputs": [
    {
     "data": {
      "text/plain": [
       "array([[ 1,  3],\n",
       "       [ 9, 11]])"
      ]
     },
     "execution_count": 80,
     "metadata": {},
     "output_type": "execute_result"
    }
   ],
   "source": [
    "# chalo nikalte hai 1,3,9,11\n",
    "\n",
    "a2[::2,1::2]"
   ]
  },
  {
   "cell_type": "code",
   "execution_count": 81,
   "id": "d6550ef8",
   "metadata": {},
   "outputs": [
    {
     "data": {
      "text/plain": [
       "array([[ 0,  1,  2,  3],\n",
       "       [ 4,  5,  6,  7],\n",
       "       [ 8,  9, 10, 11]])"
      ]
     },
     "execution_count": 81,
     "metadata": {},
     "output_type": "execute_result"
    }
   ],
   "source": [
    "a2 # just 4 aur 7 chaiye"
   ]
  },
  {
   "cell_type": "code",
   "execution_count": 86,
   "id": "def6b244",
   "metadata": {},
   "outputs": [
    {
     "data": {
      "text/plain": [
       "array([[4, 7]])"
      ]
     },
     "execution_count": 86,
     "metadata": {},
     "output_type": "execute_result"
    }
   ],
   "source": [
    "a2[1:2,::3]"
   ]
  },
  {
   "cell_type": "code",
   "execution_count": 87,
   "id": "5e6ee22b",
   "metadata": {},
   "outputs": [
    {
     "data": {
      "text/plain": [
       "array([[1, 2, 3],\n",
       "       [5, 6, 7]])"
      ]
     },
     "execution_count": 87,
     "metadata": {},
     "output_type": "execute_result"
    }
   ],
   "source": [
    "# chalo nikalte hai 1,2,3,5,6,7\n",
    "\n",
    "a2[0:2,1:]"
   ]
  },
  {
   "cell_type": "code",
   "execution_count": 90,
   "id": "cdfadc7b",
   "metadata": {},
   "outputs": [
    {
     "data": {
      "text/plain": [
       "array([[[ 0,  1,  2],\n",
       "        [ 3,  4,  5],\n",
       "        [ 6,  7,  8]],\n",
       "\n",
       "       [[ 9, 10, 11],\n",
       "        [12, 13, 14],\n",
       "        [15, 16, 17]],\n",
       "\n",
       "       [[18, 19, 20],\n",
       "        [21, 22, 23],\n",
       "        [24, 25, 26]]])"
      ]
     },
     "execution_count": 90,
     "metadata": {},
     "output_type": "execute_result"
    }
   ],
   "source": [
    "# chalo ddekhate hai 3D ke case may kaise karte hai\n",
    "\n",
    "a3= np.arange(27).reshape(3,3,3)\n",
    "a3"
   ]
  },
  {
   "cell_type": "code",
   "execution_count": 92,
   "id": "3017f165",
   "metadata": {},
   "outputs": [
    {
     "data": {
      "text/plain": [
       "array([[ 9, 10, 11],\n",
       "       [12, 13, 14],\n",
       "       [15, 16, 17]])"
      ]
     },
     "execution_count": 92,
     "metadata": {},
     "output_type": "execute_result"
    }
   ],
   "source": [
    "# chalo koi bole ye nikalna hai [[ 9, 10, 11],\n",
    "                               # [12, 13, 14],\n",
    "                                #[15, 16, 17]],\n",
    "        \n",
    "\n",
    "a3[1]"
   ]
  },
  {
   "cell_type": "code",
   "execution_count": 93,
   "id": "ec91c7de",
   "metadata": {},
   "outputs": [
    {
     "data": {
      "text/plain": [
       "array([[[ 0,  1,  2],\n",
       "        [ 3,  4,  5],\n",
       "        [ 6,  7,  8]],\n",
       "\n",
       "       [[18, 19, 20],\n",
       "        [21, 22, 23],\n",
       "        [24, 25, 26]]])"
      ]
     },
     "execution_count": 93,
     "metadata": {},
     "output_type": "execute_result"
    }
   ],
   "source": [
    "# lets pick [[[ 0,  1,  2],\n",
    "            #[ 3,  4,  5],\n",
    "            #[ 6,  7,  8]],\n",
    "        \n",
    "        \n",
    "        \n",
    "            #[[18, 19, 20],\n",
    "            #[21, 22, 23],\n",
    "            #[24, 25, 26]]])\n",
    "            \n",
    "a3[::2]\n",
    "        "
   ]
  },
  {
   "cell_type": "code",
   "execution_count": 94,
   "id": "4b18ec2a",
   "metadata": {},
   "outputs": [
    {
     "data": {
      "text/plain": [
       "array([[[ 0,  1,  2],\n",
       "        [ 3,  4,  5],\n",
       "        [ 6,  7,  8]],\n",
       "\n",
       "       [[ 9, 10, 11],\n",
       "        [12, 13, 14],\n",
       "        [15, 16, 17]],\n",
       "\n",
       "       [[18, 19, 20],\n",
       "        [21, 22, 23],\n",
       "        [24, 25, 26]]])"
      ]
     },
     "execution_count": 94,
     "metadata": {},
     "output_type": "execute_result"
    }
   ],
   "source": [
    "a3"
   ]
  },
  {
   "cell_type": "code",
   "execution_count": 96,
   "id": "9d6a0c8e",
   "metadata": {},
   "outputs": [
    {
     "data": {
      "text/plain": [
       "array([3, 4, 5])"
      ]
     },
     "execution_count": 96,
     "metadata": {},
     "output_type": "execute_result"
    }
   ],
   "source": [
    "# ismay 3,4,5\n",
    "\n",
    "a3[0,1]"
   ]
  },
  {
   "cell_type": "code",
   "execution_count": 98,
   "id": "3c8614b5",
   "metadata": {},
   "outputs": [
    {
     "data": {
      "text/plain": [
       "array([10, 13, 16])"
      ]
     },
     "execution_count": 98,
     "metadata": {},
     "output_type": "execute_result"
    }
   ],
   "source": [
    "# lets print 10,13,16\n",
    "a3[1,:,1]"
   ]
  },
  {
   "cell_type": "code",
   "execution_count": 99,
   "id": "f87224bd",
   "metadata": {},
   "outputs": [
    {
     "data": {
      "text/plain": [
       "array([[22, 23],\n",
       "       [25, 26]])"
      ]
     },
     "execution_count": 99,
     "metadata": {},
     "output_type": "execute_result"
    }
   ],
   "source": [
    "#lets print 22,23,25,26\n",
    "\n",
    "a3[2,1:,1:]"
   ]
  },
  {
   "cell_type": "code",
   "execution_count": 100,
   "id": "140edd54",
   "metadata": {},
   "outputs": [
    {
     "data": {
      "text/plain": [
       "array([[[ 0,  1,  2],\n",
       "        [ 3,  4,  5],\n",
       "        [ 6,  7,  8]],\n",
       "\n",
       "       [[ 9, 10, 11],\n",
       "        [12, 13, 14],\n",
       "        [15, 16, 17]],\n",
       "\n",
       "       [[18, 19, 20],\n",
       "        [21, 22, 23],\n",
       "        [24, 25, 26]]])"
      ]
     },
     "execution_count": 100,
     "metadata": {},
     "output_type": "execute_result"
    }
   ],
   "source": [
    "a3"
   ]
  },
  {
   "cell_type": "code",
   "execution_count": 104,
   "id": "c5e38593",
   "metadata": {},
   "outputs": [
    {
     "data": {
      "text/plain": [
       "array([[ 0,  2],\n",
       "       [18, 20]])"
      ]
     },
     "execution_count": 104,
     "metadata": {},
     "output_type": "execute_result"
    }
   ],
   "source": [
    "# 0,2\n",
    "#18,20\n",
    "\n",
    "a3[::2,0,0::2]"
   ]
  },
  {
   "cell_type": "markdown",
   "id": "de7fe608",
   "metadata": {},
   "source": [
    "# iteration ( that means you can run loops on arrays)"
   ]
  },
  {
   "cell_type": "code",
   "execution_count": 7,
   "id": "9bb49998",
   "metadata": {},
   "outputs": [],
   "source": [
    "a1 = np.arange(10)\n",
    "a2 = np.arange(12).reshape(3,4)\n",
    "a3 = np.arange(27).reshape(3,3,3)"
   ]
  },
  {
   "cell_type": "code",
   "execution_count": 8,
   "id": "0bb0f07c",
   "metadata": {},
   "outputs": [
    {
     "data": {
      "text/plain": [
       "array([0, 1, 2, 3, 4, 5, 6, 7, 8, 9])"
      ]
     },
     "execution_count": 8,
     "metadata": {},
     "output_type": "execute_result"
    }
   ],
   "source": [
    "a1"
   ]
  },
  {
   "cell_type": "code",
   "execution_count": 9,
   "id": "432f60ae",
   "metadata": {},
   "outputs": [
    {
     "data": {
      "text/plain": [
       "array([[ 0,  1,  2,  3],\n",
       "       [ 4,  5,  6,  7],\n",
       "       [ 8,  9, 10, 11]])"
      ]
     },
     "execution_count": 9,
     "metadata": {},
     "output_type": "execute_result"
    }
   ],
   "source": [
    "a2"
   ]
  },
  {
   "cell_type": "code",
   "execution_count": 10,
   "id": "660bf2a0",
   "metadata": {},
   "outputs": [
    {
     "data": {
      "text/plain": [
       "array([[[ 0,  1,  2],\n",
       "        [ 3,  4,  5],\n",
       "        [ 6,  7,  8]],\n",
       "\n",
       "       [[ 9, 10, 11],\n",
       "        [12, 13, 14],\n",
       "        [15, 16, 17]],\n",
       "\n",
       "       [[18, 19, 20],\n",
       "        [21, 22, 23],\n",
       "        [24, 25, 26]]])"
      ]
     },
     "execution_count": 10,
     "metadata": {},
     "output_type": "execute_result"
    }
   ],
   "source": [
    "a3"
   ]
  },
  {
   "cell_type": "code",
   "execution_count": 16,
   "id": "8f56f496",
   "metadata": {},
   "outputs": [
    {
     "name": "stdout",
     "output_type": "stream",
     "text": [
      "0\n",
      "1\n",
      "2\n",
      "3\n",
      "4\n",
      "5\n",
      "6\n",
      "7\n",
      "8\n",
      "9\n"
     ]
    }
   ],
   "source": [
    "a1\n",
    "\n",
    "for i in a1:\n",
    "    print(i)# ye kya karega ki a1 ke shaare item print kare de dega\n",
    "    "
   ]
  },
  {
   "cell_type": "code",
   "execution_count": 17,
   "id": "1a2b6fb4",
   "metadata": {},
   "outputs": [
    {
     "name": "stdout",
     "output_type": "stream",
     "text": [
      "[0 1 2 3]\n",
      "[4 5 6 7]\n",
      "[ 8  9 10 11]\n"
     ]
    }
   ],
   "source": [
    "a2\n",
    "\n",
    "for i in a2:\n",
    "    print(i) # jab aap 2D pay loops chalate ho tho ak row ak baar print hota hai aur ak ak karke sab print hojayega"
   ]
  },
  {
   "cell_type": "code",
   "execution_count": 18,
   "id": "83e8df5c",
   "metadata": {},
   "outputs": [
    {
     "name": "stdout",
     "output_type": "stream",
     "text": [
      "[[0 1 2]\n",
      " [3 4 5]\n",
      " [6 7 8]]\n",
      "[[ 9 10 11]\n",
      " [12 13 14]\n",
      " [15 16 17]]\n",
      "[[18 19 20]\n",
      " [21 22 23]\n",
      " [24 25 26]]\n"
     ]
    }
   ],
   "source": [
    "a3\n",
    "\n",
    "for i in a3:\n",
    "    print(i) # 3D may loop chalayenge tho ak baar may 2D print hota hai jaise \n",
    "             # [[0 1 2]\n",
    "             # [3 4 5]\n",
    "             # [6 7 8]]\n",
    "                \n",
    "                \n",
    "            # dihre dihre sab print hoga"
   ]
  },
  {
   "cell_type": "code",
   "execution_count": 19,
   "id": "40c393bf",
   "metadata": {},
   "outputs": [
    {
     "name": "stdout",
     "output_type": "stream",
     "text": [
      "0\n",
      "1\n",
      "2\n",
      "3\n",
      "4\n",
      "5\n",
      "6\n",
      "7\n",
      "8\n",
      "9\n",
      "10\n",
      "11\n"
     ]
    }
   ],
   "source": [
    "# agar har item ke upar loop chalana hai tho( dekho ouput kaisa araha hai 2D ye 3D may but humay idhar ak ak\n",
    "# item print kar warna hai tho nditer bolke function hota hai wo use kar na hai, chalo 2D may use karte hai\n",
    "\n",
    "for i in np.nditer(a2):\n",
    "    print(i)"
   ]
  },
  {
   "cell_type": "code",
   "execution_count": 20,
   "id": "ce6eab46",
   "metadata": {},
   "outputs": [
    {
     "name": "stdout",
     "output_type": "stream",
     "text": [
      "0\n",
      "1\n",
      "2\n",
      "3\n",
      "4\n",
      "5\n",
      "6\n",
      "7\n",
      "8\n",
      "9\n",
      "10\n",
      "11\n",
      "12\n",
      "13\n",
      "14\n",
      "15\n",
      "16\n",
      "17\n",
      "18\n",
      "19\n",
      "20\n",
      "21\n",
      "22\n",
      "23\n",
      "24\n",
      "25\n",
      "26\n"
     ]
    }
   ],
   "source": [
    "# aur same 3D may karte hai \n",
    "\n",
    "# ye nditer kaam kaise karta chalo dekhate hai, ye 2D,3D kitane bhi D ho usko 1D may lata hai aur print karta hai\n",
    "\n",
    "for i in np.nditer(a3):\n",
    "    print(i)"
   ]
  },
  {
   "cell_type": "markdown",
   "id": "8b42f705",
   "metadata": {},
   "source": [
    "# Reshaping"
   ]
  },
  {
   "cell_type": "code",
   "execution_count": 22,
   "id": "9dc11266",
   "metadata": {},
   "outputs": [
    {
     "data": {
      "text/plain": [
       "array([[ 0,  1,  2,  3],\n",
       "       [ 4,  5,  6,  7],\n",
       "       [ 8,  9, 10, 11]])"
      ]
     },
     "execution_count": 22,
     "metadata": {},
     "output_type": "execute_result"
    }
   ],
   "source": [
    "# Transpose\n",
    "\n",
    "a2  # abhi a2 may 3,4 hai Transpose use kar ke aap 4,3 kar sakte ho"
   ]
  },
  {
   "cell_type": "code",
   "execution_count": 24,
   "id": "9d6fd80b",
   "metadata": {},
   "outputs": [
    {
     "data": {
      "text/plain": [
       "array([[ 0,  4,  8],\n",
       "       [ 1,  5,  9],\n",
       "       [ 2,  6, 10],\n",
       "       [ 3,  7, 11]])"
      ]
     },
     "execution_count": 24,
     "metadata": {},
     "output_type": "execute_result"
    }
   ],
   "source": [
    "np.transpose(a2)"
   ]
  },
  {
   "cell_type": "code",
   "execution_count": 26,
   "id": "dd1019be",
   "metadata": {},
   "outputs": [
    {
     "data": {
      "text/plain": [
       "array([[ 0,  4,  8],\n",
       "       [ 1,  5,  9],\n",
       "       [ 2,  6, 10],\n",
       "       [ 3,  7, 11]])"
      ]
     },
     "execution_count": 26,
     "metadata": {},
     "output_type": "execute_result"
    }
   ],
   "source": [
    "# aur isko T dalke bhi use kar sakte hai\n",
    "\n",
    "a2.T"
   ]
  },
  {
   "cell_type": "code",
   "execution_count": 27,
   "id": "af4507ff",
   "metadata": {},
   "outputs": [
    {
     "data": {
      "text/plain": [
       "array([ 0,  1,  2,  3,  4,  5,  6,  7,  8,  9, 10, 11])"
      ]
     },
     "execution_count": 27,
     "metadata": {},
     "output_type": "execute_result"
    }
   ],
   "source": [
    "# ravel\n",
    "\n",
    "# kya karta hai ye 2D,3D kisi bhi D ko 1D may convert kardeta hai\n",
    "\n",
    "a2.ravel()"
   ]
  },
  {
   "cell_type": "code",
   "execution_count": 28,
   "id": "b3771360",
   "metadata": {},
   "outputs": [
    {
     "data": {
      "text/plain": [
       "array([ 0,  1,  2,  3,  4,  5,  6,  7,  8,  9, 10, 11, 12, 13, 14, 15, 16,\n",
       "       17, 18, 19, 20, 21, 22, 23, 24, 25, 26])"
      ]
     },
     "execution_count": 28,
     "metadata": {},
     "output_type": "execute_result"
    }
   ],
   "source": [
    "# chalo abhi 3D may use karte hai \n",
    "np.ravel(a3)"
   ]
  },
  {
   "cell_type": "markdown",
   "id": "0781f9b9",
   "metadata": {},
   "source": [
    "# stacking"
   ]
  },
  {
   "cell_type": "code",
   "execution_count": 29,
   "id": "0ad64a4e",
   "metadata": {},
   "outputs": [
    {
     "data": {
      "text/plain": [
       "array([[0, 1],\n",
       "       [2, 3]])"
      ]
     },
     "execution_count": 29,
     "metadata": {},
     "output_type": "execute_result"
    }
   ],
   "source": [
    "# stacking kab use ataa hai jab humye 2 arrays ko join karna ho tab\n",
    "# aur ye horzontal hota hai and vertical hota hai\n",
    "\n",
    "# Horizontal\n",
    "\n",
    "a4 = np.arange(4).reshape(2,2)\n",
    "a5 = np.arange(5,9).reshape(2,2)\n",
    "a4"
   ]
  },
  {
   "cell_type": "code",
   "execution_count": 30,
   "id": "2c786d83",
   "metadata": {},
   "outputs": [
    {
     "data": {
      "text/plain": [
       "array([[5, 6],\n",
       "       [7, 8]])"
      ]
     },
     "execution_count": 30,
     "metadata": {},
     "output_type": "execute_result"
    }
   ],
   "source": [
    "a5"
   ]
  },
  {
   "cell_type": "code",
   "execution_count": 31,
   "id": "cb55d05e",
   "metadata": {},
   "outputs": [
    {
     "data": {
      "text/plain": [
       "array([[0, 1, 5, 6],\n",
       "       [2, 3, 7, 8]])"
      ]
     },
     "execution_count": 31,
     "metadata": {},
     "output_type": "execute_result"
    }
   ],
   "source": [
    "np.hstack((a4,a5))"
   ]
  },
  {
   "cell_type": "code",
   "execution_count": 32,
   "id": "2b3ab066",
   "metadata": {},
   "outputs": [
    {
     "data": {
      "text/plain": [
       "array([[0, 1, 5, 6, 0, 1],\n",
       "       [2, 3, 7, 8, 2, 3]])"
      ]
     },
     "execution_count": 32,
     "metadata": {},
     "output_type": "execute_result"
    }
   ],
   "source": [
    "# aise he aap kitana bhi join kar sakte ho horizontally \n",
    "\n",
    "np.hstack((a4,a5,a4)) #aise he kitana bhi join kar sakte hai"
   ]
  },
  {
   "cell_type": "code",
   "execution_count": 33,
   "id": "9f8af0b7",
   "metadata": {},
   "outputs": [
    {
     "data": {
      "text/plain": [
       "array([[0, 1],\n",
       "       [2, 3],\n",
       "       [5, 6],\n",
       "       [7, 8]])"
      ]
     },
     "execution_count": 33,
     "metadata": {},
     "output_type": "execute_result"
    }
   ],
   "source": [
    "# Aise he vertical bhi join karsakte hai\n",
    "\n",
    "\n",
    "np.vstack((a4,a5))"
   ]
  },
  {
   "cell_type": "markdown",
   "id": "b56e9843",
   "metadata": {},
   "source": [
    "# yenha question ye ataa hai ki satcking use kyun karte hai kabhi aisa hota hai ki\n",
    "# data multiple source se ataa hai jaise ki database, API, data scraping se aur \n",
    "# satcking may arrays ka shape same hona chaiye"
   ]
  },
  {
   "cell_type": "markdown",
   "id": "af85a91f",
   "metadata": {},
   "source": [
    "    "
   ]
  },
  {
   "cell_type": "code",
   "execution_count": null,
   "id": "0b923cab",
   "metadata": {},
   "outputs": [],
   "source": []
  },
  {
   "cell_type": "markdown",
   "id": "112424eb",
   "metadata": {},
   "source": [
    "# Splitting"
   ]
  },
  {
   "cell_type": "code",
   "execution_count": 34,
   "id": "b1326c2b",
   "metadata": {},
   "outputs": [],
   "source": [
    "# splitting is just the opposite of stacking\n",
    " # same there are 2 splitting horizontal and vertical\n",
    "    \n"
   ]
  },
  {
   "cell_type": "markdown",
   "id": "6869f7c7",
   "metadata": {},
   "source": [
    "<img   src= \"splitting.jpg\" style = \"width:400px;height:400px\">"
   ]
  },
  {
   "cell_type": "code",
   "execution_count": 37,
   "id": "bfc8d9b6",
   "metadata": {},
   "outputs": [
    {
     "data": {
      "text/plain": [
       "array([[0, 1],\n",
       "       [2, 3]])"
      ]
     },
     "execution_count": 37,
     "metadata": {},
     "output_type": "execute_result"
    }
   ],
   "source": [
    "a4"
   ]
  },
  {
   "cell_type": "code",
   "execution_count": 35,
   "id": "7aeea999",
   "metadata": {},
   "outputs": [
    {
     "data": {
      "text/plain": [
       "[array([[0],\n",
       "        [2]]),\n",
       " array([[1],\n",
       "        [3]])]"
      ]
     },
     "execution_count": 35,
     "metadata": {},
     "output_type": "execute_result"
    }
   ],
   "source": [
    "np.hsplit(a4,2)"
   ]
  },
  {
   "cell_type": "code",
   "execution_count": 36,
   "id": "aeeb1691",
   "metadata": {},
   "outputs": [
    {
     "data": {
      "text/plain": [
       "[array([[0, 1]]), array([[2, 3]])]"
      ]
     },
     "execution_count": 36,
     "metadata": {},
     "output_type": "execute_result"
    }
   ],
   "source": [
    "np.vsplit(a4,2)"
   ]
  },
  {
   "cell_type": "markdown",
   "id": "7ba16803",
   "metadata": {},
   "source": [
    "# Advance Numpy"
   ]
  },
  {
   "cell_type": "code",
   "execution_count": 2,
   "id": "2f2b4a22",
   "metadata": {},
   "outputs": [
    {
     "name": "stdout",
     "output_type": "stream",
     "text": [
      "4.4087607860565186\n"
     ]
    }
   ],
   "source": [
    "# speed test in list\n",
    "\n",
    "a = [i for i in range(10000000)]\n",
    "b = [i for i in range(10000000,20000000)] \n",
    "\n",
    "c = []\n",
    "import time\n",
    "\n",
    "start = time.time()\n",
    "\n",
    "\n",
    "for i in range(len(a)):\n",
    "    c.append(a[i]+ b[i])\n",
    "print(time.time()- start) # ye wala task karne may 2 seconds laga\n",
    "\n",
    "    \n"
   ]
  },
  {
   "cell_type": "code",
   "execution_count": 3,
   "id": "7ff8ee11",
   "metadata": {},
   "outputs": [
    {
     "name": "stdout",
     "output_type": "stream",
     "text": [
      "0.23154425621032715\n"
     ]
    }
   ],
   "source": [
    "# same kaam in numpy may karte hai\n",
    "\n",
    "import numpy as np\n",
    "\n",
    "a = np.arange(10000000)\n",
    "b = np.arange(10000000,20000000)\n",
    "\n",
    "start = time.time()\n",
    "\n",
    "c = a+b # numpy may loops chalane ki jarurat nahi hota\n",
    "\n",
    "\n",
    "print(time.time()- start)\n"
   ]
  },
  {
   "cell_type": "code",
   "execution_count": null,
   "id": "6292e408",
   "metadata": {},
   "outputs": [],
   "source": [
    "# numpy c type ka array that mean static array jiska size badaa aur chota nahi hota"
   ]
  },
  {
   "cell_type": "code",
   "execution_count": 11,
   "id": "96472d32",
   "metadata": {},
   "outputs": [
    {
     "data": {
      "text/plain": [
       "89095160"
      ]
     },
     "execution_count": 11,
     "metadata": {},
     "output_type": "execute_result"
    }
   ],
   "source": [
    "# memory , chalo memory dekhate hai ki kitana use hota hai\n",
    "\n",
    "a = [i for i in range(10000000)]\n",
    "import sys\n",
    "\n",
    "sys.getsizeof(a)\n",
    "\n"
   ]
  },
  {
   "cell_type": "code",
   "execution_count": 12,
   "id": "6574ae95",
   "metadata": {},
   "outputs": [
    {
     "data": {
      "text/plain": [
       "40000112"
      ]
     },
     "execution_count": 12,
     "metadata": {},
     "output_type": "execute_result"
    }
   ],
   "source": [
    "a = np.arange(10000000)\n",
    "\n",
    "sys.getsizeof(a)"
   ]
  },
  {
   "cell_type": "code",
   "execution_count": 13,
   "id": "e11e3fc0",
   "metadata": {},
   "outputs": [
    {
     "data": {
      "text/plain": [
       "20000112"
      ]
     },
     "execution_count": 13,
     "metadata": {},
     "output_type": "execute_result"
    }
   ],
   "source": [
    "# EDI ke upar depend hai ki konsa int use karta hai Jupyter notebook int32 same google collab int64 use karta hai\n",
    "\n",
    "# chalo isko int16 karte hai\n",
    "a = np.arange(10000000,dtype = np.int16)\n",
    "\n",
    "sys.getsizeof(a)"
   ]
  },
  {
   "cell_type": "code",
   "execution_count": 17,
   "id": "a1a35433",
   "metadata": {},
   "outputs": [
    {
     "data": {
      "text/plain": [
       "10000112"
      ]
     },
     "execution_count": 17,
     "metadata": {},
     "output_type": "execute_result"
    }
   ],
   "source": [
    "# same int8 karte hai\n",
    "\n",
    "a = np.arange(10000000,dtype = np.int8)\n",
    "\n",
    "sys.getsizeof(a)"
   ]
  },
  {
   "cell_type": "markdown",
   "id": "d00e0f68",
   "metadata": {},
   "source": [
    "# Advance indexing"
   ]
  },
  {
   "cell_type": "code",
   "execution_count": 18,
   "id": "ddd81a58",
   "metadata": {},
   "outputs": [
    {
     "data": {
      "text/plain": [
       "array([[ 0,  1,  2],\n",
       "       [ 3,  4,  5],\n",
       "       [ 6,  7,  8],\n",
       "       [ 9, 10, 11]])"
      ]
     },
     "execution_count": 18,
     "metadata": {},
     "output_type": "execute_result"
    }
   ],
   "source": [
    "# Normal Indexing and slicing\n",
    "\n",
    "a = np.arange(12).reshape(4,3)\n",
    "a"
   ]
  },
  {
   "cell_type": "code",
   "execution_count": 19,
   "id": "76198c2c",
   "metadata": {},
   "outputs": [
    {
     "data": {
      "text/plain": [
       "5"
      ]
     },
     "execution_count": 19,
     "metadata": {},
     "output_type": "execute_result"
    }
   ],
   "source": [
    "# agar bolun 5 nikalna hai tho kaise  in normal indexing\n",
    "\n",
    "a[1,2]"
   ]
  },
  {
   "cell_type": "code",
   "execution_count": 20,
   "id": "facd0c5b",
   "metadata": {},
   "outputs": [
    {
     "data": {
      "text/plain": [
       "array([[0, 1, 2],\n",
       "       [6, 7, 8]])"
      ]
     },
     "execution_count": 20,
     "metadata": {},
     "output_type": "execute_result"
    }
   ],
   "source": [
    "a[::2]"
   ]
  },
  {
   "cell_type": "code",
   "execution_count": 24,
   "id": "fc621f1d",
   "metadata": {},
   "outputs": [
    {
     "data": {
      "text/plain": [
       "array([[ 0,  1,  2],\n",
       "       [ 9, 10, 11]])"
      ]
     },
     "execution_count": 24,
     "metadata": {},
     "output_type": "execute_result"
    }
   ],
   "source": [
    "# fancing indexing ---- may bas ak list dena hota hai\n",
    "\n",
    "# chalo ismay [ 0,  1,  2],\n",
    "            # [ 9, 10, 11]])\n",
    "    \n",
    "a[[0,3]]"
   ]
  },
  {
   "cell_type": "code",
   "execution_count": 25,
   "id": "27f15d2b",
   "metadata": {},
   "outputs": [
    {
     "data": {
      "text/plain": [
       "array([[ 1,  2],\n",
       "       [ 4,  5],\n",
       "       [ 7,  8],\n",
       "       [10, 11]])"
      ]
     },
     "execution_count": 25,
     "metadata": {},
     "output_type": "execute_result"
    }
   ],
   "source": [
    "# aur agar column nikalna hai tho kaise 1,2 column\n",
    "\n",
    "a[:,[1,2]]\n"
   ]
  },
  {
   "cell_type": "code",
   "execution_count": 4,
   "id": "c7ffa424",
   "metadata": {},
   "outputs": [],
   "source": [
    "# Boolean Indexing\n",
    "\n",
    "# Boolean Indexing may hum condition se number pull karte hai"
   ]
  },
  {
   "cell_type": "code",
   "execution_count": 5,
   "id": "dee01e35",
   "metadata": {},
   "outputs": [],
   "source": [
    "import numpy as np"
   ]
  },
  {
   "cell_type": "code",
   "execution_count": 6,
   "id": "cc201a31",
   "metadata": {},
   "outputs": [
    {
     "data": {
      "text/plain": [
       "array([[82, 52, 21, 65],\n",
       "       [58, 33, 66, 97],\n",
       "       [36, 38, 26, 80],\n",
       "       [82, 33, 10, 11],\n",
       "       [ 9, 40, 26, 77],\n",
       "       [99, 25, 61, 24]])"
      ]
     },
     "execution_count": 6,
     "metadata": {},
     "output_type": "execute_result"
    }
   ],
   "source": [
    "a = np.random.randint(1,100,24).reshape(6,4)\n",
    "a"
   ]
  },
  {
   "cell_type": "code",
   "execution_count": 8,
   "id": "65a5b48b",
   "metadata": {},
   "outputs": [
    {
     "data": {
      "text/plain": [
       "array([[ True,  True, False,  True],\n",
       "       [ True, False,  True,  True],\n",
       "       [False, False, False,  True],\n",
       "       [ True, False, False, False],\n",
       "       [False, False, False,  True],\n",
       "       [ True, False,  True, False]])"
      ]
     },
     "execution_count": 8,
     "metadata": {},
     "output_type": "execute_result"
    }
   ],
   "source": [
    "# Fetch all numbers greater than 50\n",
    "a>50     # ab ye condition har item may jake puchega ki kya aap 50 se big ho asie kar ke sab item check karega and boolean\n",
    "         # value may output ayega\n",
    "    \n",
    "    # ye boolean mask ki taraha use kar sakte hai\n",
    "    \n"
   ]
  },
  {
   "cell_type": "code",
   "execution_count": 9,
   "id": "6f0906e0",
   "metadata": {},
   "outputs": [
    {
     "data": {
      "text/plain": [
       "array([82, 52, 65, 58, 66, 97, 80, 82, 77, 99, 61])"
      ]
     },
     "execution_count": 9,
     "metadata": {},
     "output_type": "execute_result"
    }
   ],
   "source": [
    "# abhi hum log kya karenge ki boolean wala array ko utaa ke original wale may daal denge isay false wala value nikal jayega\n",
    "# and true wala value bachega\n",
    "\n",
    "a[a>50]"
   ]
  },
  {
   "cell_type": "code",
   "execution_count": 10,
   "id": "6b4ef2e9",
   "metadata": {},
   "outputs": [
    {
     "data": {
      "text/plain": [
       "array([[ True,  True, False, False],\n",
       "       [ True, False,  True, False],\n",
       "       [ True,  True,  True,  True],\n",
       "       [ True, False,  True, False],\n",
       "       [False,  True,  True, False],\n",
       "       [False, False, False,  True]])"
      ]
     },
     "execution_count": 10,
     "metadata": {},
     "output_type": "execute_result"
    }
   ],
   "source": [
    "# find out even numbers \n",
    "\n",
    "a%2 == 0"
   ]
  },
  {
   "cell_type": "code",
   "execution_count": 11,
   "id": "07b250d4",
   "metadata": {},
   "outputs": [
    {
     "data": {
      "text/plain": [
       "array([82, 52, 58, 66, 36, 38, 26, 80, 82, 10, 40, 26, 24])"
      ]
     },
     "execution_count": 11,
     "metadata": {},
     "output_type": "execute_result"
    }
   ],
   "source": [
    "# phir humlog isko orignal array may daldete hai\n",
    "a[a%2==0]"
   ]
  },
  {
   "cell_type": "code",
   "execution_count": 16,
   "id": "ef7a111b",
   "metadata": {},
   "outputs": [
    {
     "data": {
      "text/plain": [
       "array([[ True,  True, False, False],\n",
       "       [ True, False,  True, False],\n",
       "       [False, False, False,  True],\n",
       "       [ True, False, False, False],\n",
       "       [False, False, False, False],\n",
       "       [False, False, False, False]])"
      ]
     },
     "execution_count": 16,
     "metadata": {},
     "output_type": "execute_result"
    }
   ],
   "source": [
    "# find all numbers greater than 50 and are even\n",
    "(a >50)&(a%2 ==0)  # here we are using & instead of and find it out"
   ]
  },
  {
   "cell_type": "code",
   "execution_count": 17,
   "id": "b17b88fb",
   "metadata": {},
   "outputs": [
    {
     "data": {
      "text/plain": [
       "array([82, 52, 58, 66, 80, 82])"
      ]
     },
     "execution_count": 17,
     "metadata": {},
     "output_type": "execute_result"
    }
   ],
   "source": [
    "a[(a >50)&(a%2 ==0)]"
   ]
  },
  {
   "cell_type": "code",
   "execution_count": null,
   "id": "15542831",
   "metadata": {},
   "outputs": [],
   "source": []
  },
  {
   "cell_type": "code",
   "execution_count": 19,
   "id": "a3b602e6",
   "metadata": {},
   "outputs": [
    {
     "data": {
      "text/plain": [
       "array([82, 52, 65, 58, 33, 66, 97, 36, 38, 26, 80, 82, 33, 10, 11,  9, 40,\n",
       "       26, 99, 25, 61, 24])"
      ]
     },
     "execution_count": 19,
     "metadata": {},
     "output_type": "execute_result"
    }
   ],
   "source": [
    "# find all numbers not divisible by 7\n",
    "\n",
    "a[~(a % 7 ==0)]"
   ]
  },
  {
   "cell_type": "markdown",
   "id": "79c063b7",
   "metadata": {},
   "source": [
    "# Broadcasting"
   ]
  },
  {
   "cell_type": "code",
   "execution_count": null,
   "id": "91290fe5",
   "metadata": {},
   "outputs": [],
   "source": [
    "# The term broadcasting describe how Numpy treats with different shapes during arithemetics operation.\n",
    "\n",
    "# The smaller array is \"broadcast\" across the larger array so that they have compatible shapes."
   ]
  },
  {
   "cell_type": "code",
   "execution_count": 20,
   "id": "95548aea",
   "metadata": {},
   "outputs": [
    {
     "name": "stdout",
     "output_type": "stream",
     "text": [
      "[[0 1 2]\n",
      " [3 4 5]]\n",
      "[[ 6  7  8]\n",
      " [ 9 10 11]]\n"
     ]
    }
   ],
   "source": [
    "# same shape\n",
    "\n",
    "a= np.arange(6).reshape(2,3)\n",
    "b= np.arange(6,12).reshape(2,3)\n",
    "print(a)\n",
    "\n",
    "print(b)\n",
    "    \n"
   ]
  },
  {
   "cell_type": "code",
   "execution_count": 22,
   "id": "af5549fe",
   "metadata": {},
   "outputs": [
    {
     "data": {
      "text/plain": [
       "array([[ 6,  8, 10],\n",
       "       [12, 14, 16]])"
      ]
     },
     "execution_count": 22,
     "metadata": {},
     "output_type": "execute_result"
    }
   ],
   "source": [
    "c = a+b # same shape ka array tha tho hogaya add\n",
    "c"
   ]
  },
  {
   "cell_type": "code",
   "execution_count": 26,
   "id": "5b504b29",
   "metadata": {},
   "outputs": [
    {
     "name": "stdout",
     "output_type": "stream",
     "text": [
      "[[0 1 2]\n",
      " [3 4 5]]\n",
      "[[0 1 2]]\n"
     ]
    },
    {
     "data": {
      "text/plain": [
       "array([[0, 2, 4],\n",
       "       [3, 5, 7]])"
      ]
     },
     "execution_count": 26,
     "metadata": {},
     "output_type": "execute_result"
    }
   ],
   "source": [
    "# abhi question idhar ye ataa hai ki different type ka shape hoga tho kya add hoga\n",
    "\n",
    "a= np.arange(6).reshape(2,3)\n",
    "b= np.arange(3).reshape(1,3)\n",
    "\n",
    "print(a)\n",
    "print(b)\n",
    "\n",
    "# chalo add karke dekhate hai different size ka add hota hai kya\n",
    "\n",
    "d = a+b\n",
    "d\n",
    "# add hogaya"
   ]
  },
  {
   "cell_type": "markdown",
   "id": "6f5f28cc",
   "metadata": {},
   "source": [
    "# Broadcast rules \n"
   ]
  },
  {
   "cell_type": "code",
   "execution_count": null,
   "id": "2b629f04",
   "metadata": {},
   "outputs": [],
   "source": [
    "# 1. Make the two arrays have the same number of dimesions.\n",
    "     # if the number of dimesions of the two arrays are different, add new dimension with size 1 to the head of the array\n",
    "     # with the smaller dimension.\n",
    "        \n",
    "# 2. Make each dimension of the two arrays the same size.\n",
    "    # if the size of each dimension of the two arrays do not match, dimensions with size 1 are stretched to the size of the \n",
    "    # other array.\n",
    "    \n",
    "    # if there is a dimension whose size is not 1 in either of the two arrays, it cannot be broadcasted, and an error is \n",
    "    # raised."
   ]
  },
  {
   "cell_type": "markdown",
   "id": "59761ed0",
   "metadata": {},
   "source": [
    "<img src = \"numpypics.jpg\">"
   ]
  },
  {
   "cell_type": "code",
   "execution_count": 27,
   "id": "1918548f",
   "metadata": {},
   "outputs": [
    {
     "name": "stdout",
     "output_type": "stream",
     "text": [
      "[[ 0  1  2]\n",
      " [ 3  4  5]\n",
      " [ 6  7  8]\n",
      " [ 9 10 11]]\n",
      "[0 1 2]\n"
     ]
    }
   ],
   "source": [
    "# lets solve a example \n",
    "\n",
    "a = np.arange(12).reshape(4,3)\n",
    "b = np.arange(3)\n",
    "\n",
    "print(a)\n",
    "print(b)\n",
    "\n"
   ]
  },
  {
   "cell_type": "code",
   "execution_count": 28,
   "id": "f4f88e2c",
   "metadata": {},
   "outputs": [
    {
     "name": "stdout",
     "output_type": "stream",
     "text": [
      "[[ 0  2  4]\n",
      " [ 3  5  7]\n",
      " [ 6  8 10]\n",
      " [ 9 11 13]]\n"
     ]
    }
   ],
   "source": [
    "#lets add \n",
    "\n",
    "print(a+b)\n",
    "\n",
    "# niche iska explation hai hamesh yaad rahe ki agaar 1 hoga tho he broadcasting perform hota hai"
   ]
  },
  {
   "cell_type": "markdown",
   "id": "51820be4",
   "metadata": {},
   "source": [
    "<img src = \"1d2d.jpg\">"
   ]
  },
  {
   "cell_type": "code",
   "execution_count": 29,
   "id": "bd8a4abe",
   "metadata": {},
   "outputs": [
    {
     "ename": "ValueError",
     "evalue": "operands could not be broadcast together with shapes (3,4) (3,) ",
     "output_type": "error",
     "traceback": [
      "\u001b[1;31m---------------------------------------------------------------------------\u001b[0m",
      "\u001b[1;31mValueError\u001b[0m                                Traceback (most recent call last)",
      "Cell \u001b[1;32mIn[29], line 4\u001b[0m\n\u001b[0;32m      1\u001b[0m a \u001b[38;5;241m=\u001b[39m np\u001b[38;5;241m.\u001b[39marange(\u001b[38;5;241m12\u001b[39m)\u001b[38;5;241m.\u001b[39mreshape(\u001b[38;5;241m3\u001b[39m,\u001b[38;5;241m4\u001b[39m)\n\u001b[0;32m      2\u001b[0m b\u001b[38;5;241m=\u001b[39m np\u001b[38;5;241m.\u001b[39marange(\u001b[38;5;241m3\u001b[39m)\n\u001b[1;32m----> 4\u001b[0m \u001b[38;5;28mprint\u001b[39m(\u001b[43ma\u001b[49m\u001b[38;5;241;43m+\u001b[39;49m\u001b[43mb\u001b[49m)\n",
      "\u001b[1;31mValueError\u001b[0m: operands could not be broadcast together with shapes (3,4) (3,) "
     ]
    }
   ],
   "source": [
    "a = np.arange(12).reshape(3,4)\n",
    "b= np.arange(3)\n",
    "\n",
    "print(a+b)"
   ]
  },
  {
   "cell_type": "markdown",
   "id": "f1015b30",
   "metadata": {},
   "source": [
    "<img src = \"broadcastingaa.jpg\" style = \"width:500px;height:500px\">"
   ]
  },
  {
   "cell_type": "code",
   "execution_count": null,
   "id": "6f74e5e1",
   "metadata": {},
   "outputs": [],
   "source": []
  }
 ],
 "metadata": {
  "kernelspec": {
   "display_name": "Python 3 (ipykernel)",
   "language": "python",
   "name": "python3"
  },
  "language_info": {
   "codemirror_mode": {
    "name": "ipython",
    "version": 3
   },
   "file_extension": ".py",
   "mimetype": "text/x-python",
   "name": "python",
   "nbconvert_exporter": "python",
   "pygments_lexer": "ipython3",
   "version": "3.11.3"
  }
 },
 "nbformat": 4,
 "nbformat_minor": 5
}
